{
 "cells": [
  {
   "cell_type": "markdown",
   "id": "38e89353",
   "metadata": {},
   "source": [
    "1. In the below elements which of them are values or an expression? eg: - values can be integer or string and expressions will be mathematical operators.\n",
    "\n",
    "Ans:        *             Expression\n",
    "            'hello'       Value\n",
    "            -87.8         Value\n",
    "            -             Expression\n",
    "            /             Expression\n",
    "            +             Expression\n",
    "             6            Value\n",
    "\n",
    "\n"
   ]
  },
  {
   "cell_type": "markdown",
   "id": "2f3875f0",
   "metadata": {},
   "source": [
    "2. What is the difference between string and variable?\n",
    "Ans:  Variable is used to store information or data, while string  is itself a data or information.\n",
    "For example: A =” Hello world “\n",
    "Here A is a variable and ” Hello world “ is string\n"
   ]
  },
  {
   "cell_type": "markdown",
   "id": "9192dd1b",
   "metadata": {},
   "source": [
    "3. Describe three different data types.\n",
    "Ans: The three different data types are,1 Numeric Types: int, float. 2 Text Type: str. 3 Boolean Type: bool and many more data types  \n",
    "•\tNumeric Types: int, float.\n",
    "The integer data type represents whole numbers without any fractional or decimal part.Examples: -5, 0, 10, 1000.\n",
    "Floats are represented using the floating-point notation, which includes a decimal point and allows numbers to have a fractional part. Examples:  3.14, -0.5, 2.0, etc.\n",
    "\n",
    "•\tText Type: str\n",
    "The string data type represents a sequence of characters enclosed within single quotes (' ') or double quotes (\" \").Examples: \"Hello\", 'Python', \"42\".\n",
    "\n",
    "•\tBoolean Type: bool\n",
    "The two possible Boolean values are represented by the built-in objects True and False. It's important to note that in Python, these values are case-sensitive, so True and False must be capitalized exactly as shown. And this data type are more use in if and else statements. Example : True and False\n",
    "\n"
   ]
  },
  {
   "cell_type": "markdown",
   "id": "c9051593",
   "metadata": {},
   "source": [
    "4. What is an expression made up of? What do all expressions do?\n",
    "Ans: An expression is made up of values and operators. All expressions reduce to a single value eg: 3+5=8\n"
   ]
  },
  {
   "cell_type": "markdown",
   "id": "ae9799a3",
   "metadata": {},
   "source": [
    "5. This assignment statements, like spam = 10. What is the difference between an expression and a statement?\n",
    "Ans: In expression we get a single values but in statements we do not get single value.\n",
    "\n"
   ]
  },
  {
   "cell_type": "markdown",
   "id": "c3037662",
   "metadata": {},
   "source": [
    "6. After running the following code, what does the variable bacon contain?\n",
    "bacon = 22\n",
    "bacon + 1\n",
    "Ans:  The variable bacon is set to 22 after running the code we get the output as ‘23’. In this code we are just adding 1 to the preassign value of bacon. The value of bacon remain the same after running this code. To change the value we need statement like bacon = bacon +1\n"
   ]
  },
  {
   "cell_type": "code",
   "execution_count": 5,
   "id": "2a974cf3",
   "metadata": {},
   "outputs": [
    {
     "data": {
      "text/plain": [
       "23"
      ]
     },
     "execution_count": 5,
     "metadata": {},
     "output_type": "execute_result"
    }
   ],
   "source": [
    "bacon=22\n",
    "bacon+1"
   ]
  },
  {
   "cell_type": "code",
   "execution_count": 6,
   "id": "9b64325b",
   "metadata": {},
   "outputs": [
    {
     "name": "stdout",
     "output_type": "stream",
     "text": [
      "23\n"
     ]
    }
   ],
   "source": [
    "bacon=22\n",
    "bacon=bacon+1\n",
    "print(bacon)"
   ]
  },
  {
   "cell_type": "markdown",
   "id": "d6eecdad",
   "metadata": {},
   "source": [
    "7. What should the values of the following two terms be?\n",
    "'spam' + 'spamspam'      \n",
    "'spam' * 3\n",
    "Ans: Both expression results in the same output 'spamspamspam'\n"
   ]
  },
  {
   "cell_type": "code",
   "execution_count": 9,
   "id": "77aa1c9c",
   "metadata": {},
   "outputs": [
    {
     "data": {
      "text/plain": [
       "'spamspamspam'"
      ]
     },
     "execution_count": 9,
     "metadata": {},
     "output_type": "execute_result"
    }
   ],
   "source": [
    "'spam' + 'spamspam'"
   ]
  },
  {
   "cell_type": "code",
   "execution_count": 8,
   "id": "1d14c114",
   "metadata": {},
   "outputs": [
    {
     "data": {
      "text/plain": [
       "'spamspamspam'"
      ]
     },
     "execution_count": 8,
     "metadata": {},
     "output_type": "execute_result"
    }
   ],
   "source": [
    "'spam' * 3"
   ]
  },
  {
   "cell_type": "markdown",
   "id": "16bbe483",
   "metadata": {},
   "source": [
    "8. Why is eggs a valid variable name while 100 is invalid?\n",
    "Ans: Because variables cannot be started from numbers. \n"
   ]
  },
  {
   "cell_type": "markdown",
   "id": "1e80d1ed",
   "metadata": {},
   "source": [
    "9. What three functions can be used to get the integer, floating-point number, or string version of a value?\n",
    "Ans: The int(),float() and str() function will evaluate to the integer, floating-point number, or string version of a value passed to them.\n"
   ]
  },
  {
   "cell_type": "markdown",
   "id": "160915f2",
   "metadata": {},
   "source": [
    "10. Why does this expression cause an error? How can you fix it?\n",
    "'I have eaten ' + 99 + ' burritos.'\n",
    "Ans: -   Here 99 is an integer therefore we are getting an error like this (can only concatenate str (not \"int\") to str) only string can be concatenated to other strings with the + operator. The correct way is ‘I have eaten ' + str (99) + ' burritos.'\n"
   ]
  },
  {
   "cell_type": "code",
   "execution_count": 10,
   "id": "7228fc18",
   "metadata": {},
   "outputs": [
    {
     "name": "stdout",
     "output_type": "stream",
     "text": [
      "I have eaten 99 burritos.\n"
     ]
    }
   ],
   "source": [
    "print('I have eaten ' + str(99) + ' burritos.')"
   ]
  },
  {
   "cell_type": "code",
   "execution_count": 11,
   "id": "64aa8bc4",
   "metadata": {},
   "outputs": [
    {
     "ename": "TypeError",
     "evalue": "can only concatenate str (not \"int\") to str",
     "output_type": "error",
     "traceback": [
      "\u001b[1;31m---------------------------------------------------------------------------\u001b[0m",
      "\u001b[1;31mTypeError\u001b[0m                                 Traceback (most recent call last)",
      "\u001b[1;32m~\\AppData\\Local\\Temp\\ipykernel_19900\\1774935878.py\u001b[0m in \u001b[0;36m<module>\u001b[1;34m\u001b[0m\n\u001b[1;32m----> 1\u001b[1;33m \u001b[1;34m'I have eaten '\u001b[0m \u001b[1;33m+\u001b[0m \u001b[1;36m99\u001b[0m \u001b[1;33m+\u001b[0m \u001b[1;34m' burritos.'\u001b[0m\u001b[1;33m\u001b[0m\u001b[1;33m\u001b[0m\u001b[0m\n\u001b[0m",
      "\u001b[1;31mTypeError\u001b[0m: can only concatenate str (not \"int\") to str"
     ]
    }
   ],
   "source": [
    "'I have eaten ' + 99 + ' burritos.'"
   ]
  },
  {
   "cell_type": "code",
   "execution_count": null,
   "id": "7196b4db",
   "metadata": {},
   "outputs": [],
   "source": []
  }
 ],
 "metadata": {
  "kernelspec": {
   "display_name": "Python 3 (ipykernel)",
   "language": "python",
   "name": "python3"
  },
  "language_info": {
   "codemirror_mode": {
    "name": "ipython",
    "version": 3
   },
   "file_extension": ".py",
   "mimetype": "text/x-python",
   "name": "python",
   "nbconvert_exporter": "python",
   "pygments_lexer": "ipython3",
   "version": "3.9.13"
  }
 },
 "nbformat": 4,
 "nbformat_minor": 5
}
